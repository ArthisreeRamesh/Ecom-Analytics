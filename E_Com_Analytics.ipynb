{
  "cells": [
    {
      "cell_type": "code",
      "execution_count": null,
      "id": "bf4aa380",
      "metadata": {
        "id": "bf4aa380"
      },
      "outputs": [],
      "source": [
        "import os, sys\n",
        "import numpy as np\n",
        "import pandas as pd\n",
        "import matplotlib.pyplot as plt\n",
        "%matplotlib inline\n",
        "import seaborn as sns\n",
        "sns.set()\n",
        "import warnings\n",
        "warnings.filterwarnings('ignore')"
      ]
    },
    {
      "cell_type": "code",
      "execution_count": null,
      "id": "8548327a",
      "metadata": {
        "id": "8548327a",
        "outputId": "5db6271b-93c5-4b9b-d86d-713b96e5fcf3"
      },
      "outputs": [
        {
          "data": {
            "text/html": [
              "<div>\n",
              "<style scoped>\n",
              "    .dataframe tbody tr th:only-of-type {\n",
              "        vertical-align: middle;\n",
              "    }\n",
              "\n",
              "    .dataframe tbody tr th {\n",
              "        vertical-align: top;\n",
              "    }\n",
              "\n",
              "    .dataframe thead th {\n",
              "        text-align: right;\n",
              "    }\n",
              "</style>\n",
              "<table border=\"1\" class=\"dataframe\">\n",
              "  <thead>\n",
              "    <tr style=\"text-align: right;\">\n",
              "      <th></th>\n",
              "      <th>CustomerID</th>\n",
              "      <th>Item Code</th>\n",
              "      <th>InvoieNo</th>\n",
              "      <th>Date of purchase</th>\n",
              "      <th>Quantity</th>\n",
              "      <th>Time</th>\n",
              "      <th>price per Unit</th>\n",
              "      <th>Price</th>\n",
              "      <th>Shipping Location</th>\n",
              "      <th>Cancelled_status</th>\n",
              "      <th>Reason of return</th>\n",
              "      <th>Sold as set</th>\n",
              "    </tr>\n",
              "  </thead>\n",
              "  <tbody>\n",
              "    <tr>\n",
              "      <th>0</th>\n",
              "      <td>4355.0</td>\n",
              "      <td>15734</td>\n",
              "      <td>398177.0</td>\n",
              "      <td>29-10-2017</td>\n",
              "      <td>6.0</td>\n",
              "      <td>3:36:00 PM</td>\n",
              "      <td>321.0</td>\n",
              "      <td>1926.0</td>\n",
              "      <td>Location 1</td>\n",
              "      <td>NaN</td>\n",
              "      <td>NaN</td>\n",
              "      <td>NaN</td>\n",
              "    </tr>\n",
              "    <tr>\n",
              "      <th>1</th>\n",
              "      <td>4352.0</td>\n",
              "      <td>14616</td>\n",
              "      <td>394422.0</td>\n",
              "      <td>05-10-2017</td>\n",
              "      <td>2.0</td>\n",
              "      <td>2:53:00 PM</td>\n",
              "      <td>870.0</td>\n",
              "      <td>1740.0</td>\n",
              "      <td>Location 1</td>\n",
              "      <td>NaN</td>\n",
              "      <td>NaN</td>\n",
              "      <td>NaN</td>\n",
              "    </tr>\n",
              "    <tr>\n",
              "      <th>2</th>\n",
              "      <td>4352.0</td>\n",
              "      <td>14614</td>\n",
              "      <td>394422.0</td>\n",
              "      <td>12-10-2017</td>\n",
              "      <td>2.0</td>\n",
              "      <td>2:53:00 PM</td>\n",
              "      <td>933.0</td>\n",
              "      <td>1866.0</td>\n",
              "      <td>Location 1</td>\n",
              "      <td>NaN</td>\n",
              "      <td>NaN</td>\n",
              "      <td>NaN</td>\n",
              "    </tr>\n",
              "    <tr>\n",
              "      <th>3</th>\n",
              "      <td>4352.0</td>\n",
              "      <td>85014B</td>\n",
              "      <td>388633.0</td>\n",
              "      <td>22-08-2017</td>\n",
              "      <td>3.0</td>\n",
              "      <td>2:47:00 PM</td>\n",
              "      <td>623.0</td>\n",
              "      <td>1869.0</td>\n",
              "      <td>Location 1</td>\n",
              "      <td>NaN</td>\n",
              "      <td>NaN</td>\n",
              "      <td>NaN</td>\n",
              "    </tr>\n",
              "    <tr>\n",
              "      <th>4</th>\n",
              "      <td>4352.0</td>\n",
              "      <td>15364</td>\n",
              "      <td>394422.0</td>\n",
              "      <td>10-10-2017</td>\n",
              "      <td>2.0</td>\n",
              "      <td>2:53:00 PM</td>\n",
              "      <td>944.0</td>\n",
              "      <td>1888.0</td>\n",
              "      <td>Location 1</td>\n",
              "      <td>NaN</td>\n",
              "      <td>NaN</td>\n",
              "      <td>NaN</td>\n",
              "    </tr>\n",
              "  </tbody>\n",
              "</table>\n",
              "</div>"
            ],
            "text/plain": [
              "   CustomerID Item Code  InvoieNo Date of purchase  Quantity        Time  \\\n",
              "0      4355.0     15734  398177.0       29-10-2017       6.0  3:36:00 PM   \n",
              "1      4352.0     14616  394422.0       05-10-2017       2.0  2:53:00 PM   \n",
              "2      4352.0     14614  394422.0       12-10-2017       2.0  2:53:00 PM   \n",
              "3      4352.0    85014B  388633.0       22-08-2017       3.0  2:47:00 PM   \n",
              "4      4352.0     15364  394422.0       10-10-2017       2.0  2:53:00 PM   \n",
              "\n",
              "   price per Unit   Price Shipping Location Cancelled_status Reason of return  \\\n",
              "0           321.0  1926.0        Location 1              NaN              NaN   \n",
              "1           870.0  1740.0        Location 1              NaN              NaN   \n",
              "2           933.0  1866.0        Location 1              NaN              NaN   \n",
              "3           623.0  1869.0        Location 1              NaN              NaN   \n",
              "4           944.0  1888.0        Location 1              NaN              NaN   \n",
              "\n",
              "   Sold as set  \n",
              "0          NaN  \n",
              "1          NaN  \n",
              "2          NaN  \n",
              "3          NaN  \n",
              "4          NaN  "
            ]
          },
          "execution_count": 2,
          "metadata": {},
          "output_type": "execute_result"
        }
      ],
      "source": [
        "df = pd.read_csv('E-com_Data.csv')\n",
        "df.head()"
      ]
    },
    {
      "cell_type": "code",
      "execution_count": null,
      "id": "8c9edd3a",
      "metadata": {
        "id": "8c9edd3a",
        "outputId": "571c930e-4273-411b-e0fe-d15228444c3b"
      },
      "outputs": [
        {
          "name": "stdout",
          "output_type": "stream",
          "text": [
            "<class 'pandas.core.frame.DataFrame'>\n",
            "RangeIndex: 541116 entries, 0 to 541115\n",
            "Data columns (total 12 columns):\n",
            " #   Column             Non-Null Count   Dtype  \n",
            "---  ------             --------------   -----  \n",
            " 0   CustomerID         404189 non-null  float64\n",
            " 1   Item Code          537979 non-null  object \n",
            " 2   InvoieNo           537979 non-null  float64\n",
            " 3   Date of purchase   537979 non-null  object \n",
            " 4   Quantity           537979 non-null  float64\n",
            " 5   Time               537979 non-null  object \n",
            " 6   price per Unit     537979 non-null  float64\n",
            " 7   Price              537979 non-null  float64\n",
            " 8   Shipping Location  537979 non-null  object \n",
            " 9   Cancelled_status   8345 non-null    object \n",
            " 10  Reason of return   3 non-null       object \n",
            " 11  Sold as set        0 non-null       float64\n",
            "dtypes: float64(6), object(6)\n",
            "memory usage: 49.5+ MB\n"
          ]
        }
      ],
      "source": [
        "df.info()"
      ]
    },
    {
      "cell_type": "code",
      "execution_count": null,
      "id": "b4d27813",
      "metadata": {
        "id": "b4d27813"
      },
      "outputs": [],
      "source": [
        "Recency - Date of purchase\n",
        "Frequency - Invoice no\n",
        "Monetry - Price\n",
        "For customerId\n"
      ]
    },
    {
      "cell_type": "code",
      "execution_count": null,
      "id": "70265361",
      "metadata": {
        "id": "70265361",
        "outputId": "b53f60db-feb3-4db9-f7b5-f1cdd68b9456"
      },
      "outputs": [
        {
          "data": {
            "text/plain": [
              "Index(['CustomerID', 'Item Code', 'InvoieNo', 'Date of purchase', 'Quantity',\n",
              "       'Time', 'price per Unit', 'Price', 'Shipping Location',\n",
              "       'Cancelled_status', 'Reason of return', 'Sold as set'],\n",
              "      dtype='object')"
            ]
          },
          "execution_count": 4,
          "metadata": {},
          "output_type": "execute_result"
        }
      ],
      "source": [
        "df.columns"
      ]
    },
    {
      "cell_type": "code",
      "execution_count": null,
      "id": "13241cc6",
      "metadata": {
        "id": "13241cc6"
      },
      "outputs": [],
      "source": [
        "df = df[['CustomerID','InvoieNo','Date of purchase','Price']]"
      ]
    },
    {
      "cell_type": "code",
      "execution_count": null,
      "id": "5e6fdb6d",
      "metadata": {
        "id": "5e6fdb6d",
        "outputId": "ba244071-b5ee-473a-8ec4-2e5a82c3822a"
      },
      "outputs": [
        {
          "data": {
            "text/html": [
              "<div>\n",
              "<style scoped>\n",
              "    .dataframe tbody tr th:only-of-type {\n",
              "        vertical-align: middle;\n",
              "    }\n",
              "\n",
              "    .dataframe tbody tr th {\n",
              "        vertical-align: top;\n",
              "    }\n",
              "\n",
              "    .dataframe thead th {\n",
              "        text-align: right;\n",
              "    }\n",
              "</style>\n",
              "<table border=\"1\" class=\"dataframe\">\n",
              "  <thead>\n",
              "    <tr style=\"text-align: right;\">\n",
              "      <th></th>\n",
              "      <th>CustomerID</th>\n",
              "      <th>InvoieNo</th>\n",
              "      <th>Date of purchase</th>\n",
              "      <th>Price</th>\n",
              "    </tr>\n",
              "  </thead>\n",
              "  <tbody>\n",
              "    <tr>\n",
              "      <th>0</th>\n",
              "      <td>4355.0</td>\n",
              "      <td>398177.0</td>\n",
              "      <td>29-10-2017</td>\n",
              "      <td>1926.0</td>\n",
              "    </tr>\n",
              "    <tr>\n",
              "      <th>1</th>\n",
              "      <td>4352.0</td>\n",
              "      <td>394422.0</td>\n",
              "      <td>05-10-2017</td>\n",
              "      <td>1740.0</td>\n",
              "    </tr>\n",
              "    <tr>\n",
              "      <th>2</th>\n",
              "      <td>4352.0</td>\n",
              "      <td>394422.0</td>\n",
              "      <td>12-10-2017</td>\n",
              "      <td>1866.0</td>\n",
              "    </tr>\n",
              "    <tr>\n",
              "      <th>3</th>\n",
              "      <td>4352.0</td>\n",
              "      <td>388633.0</td>\n",
              "      <td>22-08-2017</td>\n",
              "      <td>1869.0</td>\n",
              "    </tr>\n",
              "    <tr>\n",
              "      <th>4</th>\n",
              "      <td>4352.0</td>\n",
              "      <td>394422.0</td>\n",
              "      <td>10-10-2017</td>\n",
              "      <td>1888.0</td>\n",
              "    </tr>\n",
              "  </tbody>\n",
              "</table>\n",
              "</div>"
            ],
            "text/plain": [
              "   CustomerID  InvoieNo Date of purchase   Price\n",
              "0      4355.0  398177.0       29-10-2017  1926.0\n",
              "1      4352.0  394422.0       05-10-2017  1740.0\n",
              "2      4352.0  394422.0       12-10-2017  1866.0\n",
              "3      4352.0  388633.0       22-08-2017  1869.0\n",
              "4      4352.0  394422.0       10-10-2017  1888.0"
            ]
          },
          "execution_count": 6,
          "metadata": {},
          "output_type": "execute_result"
        }
      ],
      "source": [
        "df.head()"
      ]
    },
    {
      "cell_type": "code",
      "execution_count": null,
      "id": "34c63500",
      "metadata": {
        "id": "34c63500",
        "outputId": "cce727fe-87a7-4fdf-97ce-654135c382bb"
      },
      "outputs": [
        {
          "data": {
            "text/plain": [
              "CustomerID          25.304556\n",
              "InvoieNo             0.579728\n",
              "Date of purchase     0.579728\n",
              "Price                0.579728\n",
              "dtype: float64"
            ]
          },
          "execution_count": 8,
          "metadata": {},
          "output_type": "execute_result"
        }
      ],
      "source": [
        "df.isnull().sum()/len(df)*100"
      ]
    },
    {
      "cell_type": "code",
      "execution_count": null,
      "id": "fe8c63a5",
      "metadata": {
        "id": "fe8c63a5"
      },
      "outputs": [],
      "source": [
        "df = df.dropna(subset=['CustomerID'])"
      ]
    },
    {
      "cell_type": "code",
      "execution_count": null,
      "id": "83b46404",
      "metadata": {
        "id": "83b46404",
        "outputId": "2d92b06b-1457-4f2a-d05b-f46baa4ac6ab"
      },
      "outputs": [
        {
          "data": {
            "text/plain": [
              "CustomerID          0.0\n",
              "InvoieNo            0.0\n",
              "Date of purchase    0.0\n",
              "Price               0.0\n",
              "dtype: float64"
            ]
          },
          "execution_count": 10,
          "metadata": {},
          "output_type": "execute_result"
        }
      ],
      "source": [
        "df.isnull().sum()/len(df)*100"
      ]
    },
    {
      "cell_type": "code",
      "execution_count": null,
      "id": "ff188f26",
      "metadata": {
        "id": "ff188f26",
        "outputId": "94dbb2eb-90f0-4269-8a13-a15d7f788a7c"
      },
      "outputs": [
        {
          "data": {
            "text/plain": [
              "(404189, 4)"
            ]
          },
          "execution_count": 11,
          "metadata": {},
          "output_type": "execute_result"
        }
      ],
      "source": [
        "df.shape"
      ]
    },
    {
      "cell_type": "code",
      "execution_count": null,
      "id": "1ff585b9",
      "metadata": {
        "id": "1ff585b9",
        "outputId": "bd971060-418c-4842-82e5-de076e5c2476"
      },
      "outputs": [
        {
          "data": {
            "text/plain": [
              "1330"
            ]
          },
          "execution_count": 16,
          "metadata": {},
          "output_type": "execute_result"
        }
      ],
      "source": [
        "df.duplicated().sum()"
      ]
    },
    {
      "cell_type": "code",
      "execution_count": null,
      "id": "ddcf3919",
      "metadata": {
        "id": "ddcf3919"
      },
      "outputs": [],
      "source": [
        "import datetime"
      ]
    },
    {
      "cell_type": "code",
      "execution_count": null,
      "id": "cf4105a3",
      "metadata": {
        "id": "cf4105a3"
      },
      "outputs": [],
      "source": [
        "df['Date of purchase'] = pd.to_datetime(df['Date of purchase'])"
      ]
    },
    {
      "cell_type": "code",
      "execution_count": null,
      "id": "59977dca",
      "metadata": {
        "id": "59977dca",
        "outputId": "c40b2adb-2533-4195-a40c-018a209c44f8"
      },
      "outputs": [
        {
          "name": "stdout",
          "output_type": "stream",
          "text": [
            "<class 'pandas.core.frame.DataFrame'>\n",
            "Int64Index: 404189 entries, 0 to 537949\n",
            "Data columns (total 4 columns):\n",
            " #   Column            Non-Null Count   Dtype         \n",
            "---  ------            --------------   -----         \n",
            " 0   CustomerID        404189 non-null  float64       \n",
            " 1   InvoieNo          404189 non-null  float64       \n",
            " 2   Date of purchase  404189 non-null  datetime64[ns]\n",
            " 3   Price             404189 non-null  float64       \n",
            "dtypes: datetime64[ns](1), float64(3)\n",
            "memory usage: 15.4 MB\n"
          ]
        }
      ],
      "source": [
        "df.info()"
      ]
    },
    {
      "cell_type": "code",
      "execution_count": null,
      "id": "714fbe7e",
      "metadata": {
        "id": "714fbe7e"
      },
      "outputs": [],
      "source": [
        "df = df.drop_duplicates(ignore_index=True)"
      ]
    },
    {
      "cell_type": "code",
      "execution_count": null,
      "id": "e5317a1e",
      "metadata": {
        "id": "e5317a1e",
        "outputId": "1a019c0b-73d7-4044-f1aa-d0aa842109b6"
      },
      "outputs": [
        {
          "data": {
            "text/plain": [
              "0"
            ]
          },
          "execution_count": 18,
          "metadata": {},
          "output_type": "execute_result"
        }
      ],
      "source": [
        "df.duplicated().sum()"
      ]
    },
    {
      "cell_type": "code",
      "execution_count": null,
      "id": "fb90b8e0",
      "metadata": {
        "id": "fb90b8e0",
        "outputId": "aefe0783-358e-42ef-9e74-0ca23233ee27"
      },
      "outputs": [
        {
          "name": "stdout",
          "output_type": "stream",
          "text": [
            "<class 'pandas.core.frame.DataFrame'>\n",
            "RangeIndex: 402859 entries, 0 to 402858\n",
            "Data columns (total 4 columns):\n",
            " #   Column      Non-Null Count   Dtype         \n",
            "---  ------      --------------   -----         \n",
            " 0   CustomerID  402859 non-null  float64       \n",
            " 1   Invoice_No  402859 non-null  float64       \n",
            " 2   Date        402859 non-null  datetime64[ns]\n",
            " 3   Price       402859 non-null  float64       \n",
            "dtypes: datetime64[ns](1), float64(3)\n",
            "memory usage: 12.3 MB\n"
          ]
        }
      ],
      "source": [
        "df.info()"
      ]
    },
    {
      "cell_type": "code",
      "execution_count": null,
      "id": "8b93457a",
      "metadata": {
        "id": "8b93457a"
      },
      "outputs": [],
      "source": [
        "df = df.rename(columns = {'InvoieNo': 'Invoice_No','Date of purchase':'Date' })"
      ]
    },
    {
      "cell_type": "code",
      "execution_count": null,
      "id": "6135fcb8",
      "metadata": {
        "id": "6135fcb8",
        "outputId": "1561db03-2930-4dbf-c300-3bbb62029cb3"
      },
      "outputs": [
        {
          "data": {
            "text/plain": [
              "count                  402859\n",
              "unique                    381\n",
              "top       2017-11-24 00:00:00\n",
              "freq                     2507\n",
              "first     2016-02-12 00:00:00\n",
              "last      2017-12-19 00:00:00\n",
              "Name: Date, dtype: object"
            ]
          },
          "execution_count": 22,
          "metadata": {},
          "output_type": "execute_result"
        }
      ],
      "source": [
        "df['Date'].describe()"
      ]
    },
    {
      "cell_type": "code",
      "execution_count": null,
      "id": "37255f27",
      "metadata": {
        "id": "37255f27"
      },
      "outputs": [],
      "source": [
        "new_date = datetime.datetime(2017,12,20)"
      ]
    },
    {
      "cell_type": "code",
      "execution_count": null,
      "id": "2896d05b",
      "metadata": {
        "id": "2896d05b",
        "outputId": "bc00e643-50f7-4738-8531-d918485c8bb7"
      },
      "outputs": [
        {
          "data": {
            "text/plain": [
              "datetime.datetime(2017, 12, 20, 0, 0)"
            ]
          },
          "execution_count": 24,
          "metadata": {},
          "output_type": "execute_result"
        }
      ],
      "source": [
        "new_date"
      ]
    },
    {
      "cell_type": "code",
      "execution_count": null,
      "id": "24a2ae64",
      "metadata": {
        "id": "24a2ae64"
      },
      "outputs": [],
      "source": [
        "RMFApproach = df.groupby('CustomerID').agg({'Date': lambda x : (new_date - x.max()).days,\n",
        "                                           'Invoice_No' : lambda x : x.count(),\n",
        "                                           'Price' : lambda x : x.sum()})\n",
        "\n",
        "RMFApproach.rename(columns = {'Date':'Recency', 'Invoice_No': 'Frequency', 'Price': 'Monetory'}, inplace=True)"
      ]
    },
    {
      "cell_type": "code",
      "execution_count": null,
      "id": "bfcf2169",
      "metadata": {
        "id": "bfcf2169",
        "outputId": "a71b4cbb-5992-4deb-ff90-242d7e5c9dc8"
      },
      "outputs": [
        {
          "data": {
            "text/html": [
              "<div>\n",
              "<style scoped>\n",
              "    .dataframe tbody tr th:only-of-type {\n",
              "        vertical-align: middle;\n",
              "    }\n",
              "\n",
              "    .dataframe tbody tr th {\n",
              "        vertical-align: top;\n",
              "    }\n",
              "\n",
              "    .dataframe thead th {\n",
              "        text-align: right;\n",
              "    }\n",
              "</style>\n",
              "<table border=\"1\" class=\"dataframe\">\n",
              "  <thead>\n",
              "    <tr style=\"text-align: right;\">\n",
              "      <th></th>\n",
              "      <th>CustomerID</th>\n",
              "      <th>Recency</th>\n",
              "      <th>Frequency</th>\n",
              "      <th>Monetory</th>\n",
              "    </tr>\n",
              "  </thead>\n",
              "  <tbody>\n",
              "    <tr>\n",
              "      <th>0</th>\n",
              "      <td>2.0</td>\n",
              "      <td>4</td>\n",
              "      <td>181</td>\n",
              "      <td>550416.0</td>\n",
              "    </tr>\n",
              "    <tr>\n",
              "      <th>1</th>\n",
              "      <td>3.0</td>\n",
              "      <td>77</td>\n",
              "      <td>27</td>\n",
              "      <td>257404.0</td>\n",
              "    </tr>\n",
              "    <tr>\n",
              "      <th>2</th>\n",
              "      <td>4.0</td>\n",
              "      <td>20</td>\n",
              "      <td>72</td>\n",
              "      <td>176613.0</td>\n",
              "    </tr>\n",
              "    <tr>\n",
              "      <th>3</th>\n",
              "      <td>5.0</td>\n",
              "      <td>18</td>\n",
              "      <td>16</td>\n",
              "      <td>41976.0</td>\n",
              "    </tr>\n",
              "    <tr>\n",
              "      <th>4</th>\n",
              "      <td>6.0</td>\n",
              "      <td>9</td>\n",
              "      <td>84</td>\n",
              "      <td>151822.0</td>\n",
              "    </tr>\n",
              "    <tr>\n",
              "      <th>...</th>\n",
              "      <td>...</td>\n",
              "      <td>...</td>\n",
              "      <td>...</td>\n",
              "      <td>...</td>\n",
              "    </tr>\n",
              "    <tr>\n",
              "      <th>4344</th>\n",
              "      <td>4368.0</td>\n",
              "      <td>17</td>\n",
              "      <td>10</td>\n",
              "      <td>20480.0</td>\n",
              "    </tr>\n",
              "    <tr>\n",
              "      <th>4345</th>\n",
              "      <td>4369.0</td>\n",
              "      <td>181</td>\n",
              "      <td>7</td>\n",
              "      <td>10774.0</td>\n",
              "    </tr>\n",
              "    <tr>\n",
              "      <th>4346</th>\n",
              "      <td>4370.0</td>\n",
              "      <td>12</td>\n",
              "      <td>13</td>\n",
              "      <td>24962.0</td>\n",
              "    </tr>\n",
              "    <tr>\n",
              "      <th>4347</th>\n",
              "      <td>4371.0</td>\n",
              "      <td>4</td>\n",
              "      <td>751</td>\n",
              "      <td>279720.0</td>\n",
              "    </tr>\n",
              "    <tr>\n",
              "      <th>4348</th>\n",
              "      <td>4372.0</td>\n",
              "      <td>51</td>\n",
              "      <td>68</td>\n",
              "      <td>256952.0</td>\n",
              "    </tr>\n",
              "  </tbody>\n",
              "</table>\n",
              "<p>4349 rows × 4 columns</p>\n",
              "</div>"
            ],
            "text/plain": [
              "      CustomerID  Recency  Frequency  Monetory\n",
              "0            2.0        4        181  550416.0\n",
              "1            3.0       77         27  257404.0\n",
              "2            4.0       20         72  176613.0\n",
              "3            5.0       18         16   41976.0\n",
              "4            6.0        9         84  151822.0\n",
              "...          ...      ...        ...       ...\n",
              "4344      4368.0       17         10   20480.0\n",
              "4345      4369.0      181          7   10774.0\n",
              "4346      4370.0       12         13   24962.0\n",
              "4347      4371.0        4        751  279720.0\n",
              "4348      4372.0       51         68  256952.0\n",
              "\n",
              "[4349 rows x 4 columns]"
            ]
          },
          "execution_count": 31,
          "metadata": {},
          "output_type": "execute_result"
        }
      ],
      "source": [
        "RMFApproach.reset_index()"
      ]
    },
    {
      "cell_type": "code",
      "execution_count": null,
      "id": "40a9c233",
      "metadata": {
        "id": "40a9c233",
        "outputId": "94067e0d-a265-4ed3-9723-1c913f4fc2f4"
      },
      "outputs": [
        {
          "data": {
            "text/html": [
              "<div>\n",
              "<style scoped>\n",
              "    .dataframe tbody tr th:only-of-type {\n",
              "        vertical-align: middle;\n",
              "    }\n",
              "\n",
              "    .dataframe tbody tr th {\n",
              "        vertical-align: top;\n",
              "    }\n",
              "\n",
              "    .dataframe thead th {\n",
              "        text-align: right;\n",
              "    }\n",
              "</style>\n",
              "<table border=\"1\" class=\"dataframe\">\n",
              "  <thead>\n",
              "    <tr style=\"text-align: right;\">\n",
              "      <th></th>\n",
              "      <th>Recency</th>\n",
              "      <th>Frequency</th>\n",
              "      <th>Monetory</th>\n",
              "    </tr>\n",
              "  </thead>\n",
              "  <tbody>\n",
              "    <tr>\n",
              "      <th>count</th>\n",
              "      <td>4349.000000</td>\n",
              "      <td>4349.000000</td>\n",
              "      <td>4.349000e+03</td>\n",
              "    </tr>\n",
              "    <tr>\n",
              "      <th>mean</th>\n",
              "      <td>61.445160</td>\n",
              "      <td>92.632559</td>\n",
              "      <td>2.294939e+05</td>\n",
              "    </tr>\n",
              "    <tr>\n",
              "      <th>std</th>\n",
              "      <td>89.656941</td>\n",
              "      <td>230.742279</td>\n",
              "      <td>8.556685e+05</td>\n",
              "    </tr>\n",
              "    <tr>\n",
              "      <th>min</th>\n",
              "      <td>1.000000</td>\n",
              "      <td>1.000000</td>\n",
              "      <td>-5.037200e+04</td>\n",
              "    </tr>\n",
              "    <tr>\n",
              "      <th>25%</th>\n",
              "      <td>10.000000</td>\n",
              "      <td>17.000000</td>\n",
              "      <td>3.814000e+04</td>\n",
              "    </tr>\n",
              "    <tr>\n",
              "      <th>50%</th>\n",
              "      <td>19.000000</td>\n",
              "      <td>42.000000</td>\n",
              "      <td>8.363500e+04</td>\n",
              "    </tr>\n",
              "    <tr>\n",
              "      <th>75%</th>\n",
              "      <td>73.000000</td>\n",
              "      <td>101.000000</td>\n",
              "      <td>2.054440e+05</td>\n",
              "    </tr>\n",
              "    <tr>\n",
              "      <th>max</th>\n",
              "      <td>617.000000</td>\n",
              "      <td>7919.000000</td>\n",
              "      <td>3.547209e+07</td>\n",
              "    </tr>\n",
              "  </tbody>\n",
              "</table>\n",
              "</div>"
            ],
            "text/plain": [
              "           Recency    Frequency      Monetory\n",
              "count  4349.000000  4349.000000  4.349000e+03\n",
              "mean     61.445160    92.632559  2.294939e+05\n",
              "std      89.656941   230.742279  8.556685e+05\n",
              "min       1.000000     1.000000 -5.037200e+04\n",
              "25%      10.000000    17.000000  3.814000e+04\n",
              "50%      19.000000    42.000000  8.363500e+04\n",
              "75%      73.000000   101.000000  2.054440e+05\n",
              "max     617.000000  7919.000000  3.547209e+07"
            ]
          },
          "execution_count": 32,
          "metadata": {},
          "output_type": "execute_result"
        }
      ],
      "source": [
        "RMFApproach.describe()"
      ]
    },
    {
      "cell_type": "code",
      "execution_count": null,
      "id": "9c29aa6e",
      "metadata": {
        "id": "9c29aa6e",
        "outputId": "9edab19f-69da-46d9-fe6f-42ccb81e012d"
      },
      "outputs": [
        {
          "data": {
            "text/plain": [
              "{'Recency': {0.25: 10.0, 0.5: 19.0, 0.75: 73.0},\n",
              " 'Frequency': {0.25: 17.0, 0.5: 42.0, 0.75: 101.0},\n",
              " 'Monetory': {0.25: 38140.0, 0.5: 83635.0, 0.75: 205444.0}}"
            ]
          },
          "execution_count": 33,
          "metadata": {},
          "output_type": "execute_result"
        }
      ],
      "source": [
        "# Split the data into 4 segment basis quantile method\n",
        "\n",
        "quantiles = RMFApproach.quantile(q=[0.25,0.5,0.75])\n",
        "quantiles = quantiles.to_dict()\n",
        "quantiles"
      ]
    },
    {
      "cell_type": "code",
      "execution_count": null,
      "id": "dc6b0750",
      "metadata": {
        "id": "dc6b0750"
      },
      "outputs": [],
      "source": [
        "def Recency_value(x,p,d):\n",
        "    if x <=d[p][0.25]:\n",
        "        return 1\n",
        "    elif x <= d[p][0.50]:\n",
        "        return 2\n",
        "    elif x <= d[p][0.75]:\n",
        "        return 3\n",
        "    else :\n",
        "        return 4\n",
        " "
      ]
    },
    {
      "cell_type": "code",
      "execution_count": null,
      "id": "ffe53953",
      "metadata": {
        "id": "ffe53953"
      },
      "outputs": [],
      "source": [
        "def Freq_Monetry_value(x,p,d):\n",
        "    if x <=d[p][0.25]:\n",
        "        return 4\n",
        "    elif x <= d[p][0.50]:\n",
        "        return 3\n",
        "    elif x <= d[p][0.75]:\n",
        "        return 2\n",
        "    else :\n",
        "        return 1"
      ]
    },
    {
      "cell_type": "code",
      "execution_count": null,
      "id": "8552d6b5",
      "metadata": {
        "id": "8552d6b5"
      },
      "outputs": [],
      "source": [
        "RMFApproach['R'] = RMFApproach['Recency'].apply(Recency_value, args=('Recency', quantiles ))\n",
        "\n",
        "RMFApproach['F'] = RMFApproach['Frequency'].apply(Freq_Monetry_value, args=('Frequency', quantiles ))\n",
        "\n",
        "RMFApproach['M'] = RMFApproach['Monetory'].apply(Freq_Monetry_value, args=('Monetory', quantiles ))"
      ]
    },
    {
      "cell_type": "code",
      "execution_count": null,
      "id": "7c707d20",
      "metadata": {
        "id": "7c707d20",
        "outputId": "2e4ceee2-0b28-4a89-ed10-2b4378f30a7f"
      },
      "outputs": [
        {
          "data": {
            "text/html": [
              "<div>\n",
              "<style scoped>\n",
              "    .dataframe tbody tr th:only-of-type {\n",
              "        vertical-align: middle;\n",
              "    }\n",
              "\n",
              "    .dataframe tbody tr th {\n",
              "        vertical-align: top;\n",
              "    }\n",
              "\n",
              "    .dataframe thead th {\n",
              "        text-align: right;\n",
              "    }\n",
              "</style>\n",
              "<table border=\"1\" class=\"dataframe\">\n",
              "  <thead>\n",
              "    <tr style=\"text-align: right;\">\n",
              "      <th></th>\n",
              "      <th>CustomerID</th>\n",
              "      <th>Recency</th>\n",
              "      <th>Frequency</th>\n",
              "      <th>Monetory</th>\n",
              "      <th>R</th>\n",
              "      <th>F</th>\n",
              "      <th>M</th>\n",
              "      <th>RFM</th>\n",
              "    </tr>\n",
              "  </thead>\n",
              "  <tbody>\n",
              "    <tr>\n",
              "      <th>0</th>\n",
              "      <td>2.0</td>\n",
              "      <td>4</td>\n",
              "      <td>181</td>\n",
              "      <td>550416.0</td>\n",
              "      <td>1</td>\n",
              "      <td>1</td>\n",
              "      <td>1</td>\n",
              "      <td>3</td>\n",
              "    </tr>\n",
              "    <tr>\n",
              "      <th>1</th>\n",
              "      <td>3.0</td>\n",
              "      <td>77</td>\n",
              "      <td>27</td>\n",
              "      <td>257404.0</td>\n",
              "      <td>4</td>\n",
              "      <td>3</td>\n",
              "      <td>1</td>\n",
              "      <td>8</td>\n",
              "    </tr>\n",
              "    <tr>\n",
              "      <th>2</th>\n",
              "      <td>4.0</td>\n",
              "      <td>20</td>\n",
              "      <td>72</td>\n",
              "      <td>176613.0</td>\n",
              "      <td>3</td>\n",
              "      <td>2</td>\n",
              "      <td>2</td>\n",
              "      <td>7</td>\n",
              "    </tr>\n",
              "    <tr>\n",
              "      <th>3</th>\n",
              "      <td>5.0</td>\n",
              "      <td>18</td>\n",
              "      <td>16</td>\n",
              "      <td>41976.0</td>\n",
              "      <td>2</td>\n",
              "      <td>4</td>\n",
              "      <td>3</td>\n",
              "      <td>9</td>\n",
              "    </tr>\n",
              "    <tr>\n",
              "      <th>4</th>\n",
              "      <td>6.0</td>\n",
              "      <td>9</td>\n",
              "      <td>84</td>\n",
              "      <td>151822.0</td>\n",
              "      <td>1</td>\n",
              "      <td>2</td>\n",
              "      <td>2</td>\n",
              "      <td>5</td>\n",
              "    </tr>\n",
              "    <tr>\n",
              "      <th>...</th>\n",
              "      <td>...</td>\n",
              "      <td>...</td>\n",
              "      <td>...</td>\n",
              "      <td>...</td>\n",
              "      <td>...</td>\n",
              "      <td>...</td>\n",
              "      <td>...</td>\n",
              "      <td>...</td>\n",
              "    </tr>\n",
              "    <tr>\n",
              "      <th>4344</th>\n",
              "      <td>4368.0</td>\n",
              "      <td>17</td>\n",
              "      <td>10</td>\n",
              "      <td>20480.0</td>\n",
              "      <td>2</td>\n",
              "      <td>4</td>\n",
              "      <td>4</td>\n",
              "      <td>10</td>\n",
              "    </tr>\n",
              "    <tr>\n",
              "      <th>4345</th>\n",
              "      <td>4369.0</td>\n",
              "      <td>181</td>\n",
              "      <td>7</td>\n",
              "      <td>10774.0</td>\n",
              "      <td>4</td>\n",
              "      <td>4</td>\n",
              "      <td>4</td>\n",
              "      <td>12</td>\n",
              "    </tr>\n",
              "    <tr>\n",
              "      <th>4346</th>\n",
              "      <td>4370.0</td>\n",
              "      <td>12</td>\n",
              "      <td>13</td>\n",
              "      <td>24962.0</td>\n",
              "      <td>2</td>\n",
              "      <td>4</td>\n",
              "      <td>4</td>\n",
              "      <td>10</td>\n",
              "    </tr>\n",
              "    <tr>\n",
              "      <th>4347</th>\n",
              "      <td>4371.0</td>\n",
              "      <td>4</td>\n",
              "      <td>751</td>\n",
              "      <td>279720.0</td>\n",
              "      <td>1</td>\n",
              "      <td>1</td>\n",
              "      <td>1</td>\n",
              "      <td>3</td>\n",
              "    </tr>\n",
              "    <tr>\n",
              "      <th>4348</th>\n",
              "      <td>4372.0</td>\n",
              "      <td>51</td>\n",
              "      <td>68</td>\n",
              "      <td>256952.0</td>\n",
              "      <td>3</td>\n",
              "      <td>2</td>\n",
              "      <td>1</td>\n",
              "      <td>6</td>\n",
              "    </tr>\n",
              "  </tbody>\n",
              "</table>\n",
              "<p>4349 rows × 8 columns</p>\n",
              "</div>"
            ],
            "text/plain": [
              "      CustomerID  Recency  Frequency  Monetory  R  F  M  RFM\n",
              "0            2.0        4        181  550416.0  1  1  1    3\n",
              "1            3.0       77         27  257404.0  4  3  1    8\n",
              "2            4.0       20         72  176613.0  3  2  2    7\n",
              "3            5.0       18         16   41976.0  2  4  3    9\n",
              "4            6.0        9         84  151822.0  1  2  2    5\n",
              "...          ...      ...        ...       ... .. .. ..  ...\n",
              "4344      4368.0       17         10   20480.0  2  4  4   10\n",
              "4345      4369.0      181          7   10774.0  4  4  4   12\n",
              "4346      4370.0       12         13   24962.0  2  4  4   10\n",
              "4347      4371.0        4        751  279720.0  1  1  1    3\n",
              "4348      4372.0       51         68  256952.0  3  2  1    6\n",
              "\n",
              "[4349 rows x 8 columns]"
            ]
          },
          "execution_count": 42,
          "metadata": {},
          "output_type": "execute_result"
        }
      ],
      "source": [
        "RMFApproach.reset_index()"
      ]
    },
    {
      "cell_type": "code",
      "execution_count": null,
      "id": "a7937788",
      "metadata": {
        "id": "a7937788"
      },
      "outputs": [],
      "source": [
        "RMFApproach['RFM'] = RMFApproach[['R','F','M']].sum(axis=1)"
      ]
    },
    {
      "cell_type": "code",
      "execution_count": null,
      "id": "75cae73a",
      "metadata": {
        "id": "75cae73a",
        "outputId": "ab5e86a6-3006-43c4-e1cb-97adb5a6c602"
      },
      "outputs": [
        {
          "data": {
            "text/html": [
              "<div>\n",
              "<style scoped>\n",
              "    .dataframe tbody tr th:only-of-type {\n",
              "        vertical-align: middle;\n",
              "    }\n",
              "\n",
              "    .dataframe tbody tr th {\n",
              "        vertical-align: top;\n",
              "    }\n",
              "\n",
              "    .dataframe thead th {\n",
              "        text-align: right;\n",
              "    }\n",
              "</style>\n",
              "<table border=\"1\" class=\"dataframe\">\n",
              "  <thead>\n",
              "    <tr style=\"text-align: right;\">\n",
              "      <th></th>\n",
              "      <th>CustomerID</th>\n",
              "      <th>Recency</th>\n",
              "      <th>Frequency</th>\n",
              "      <th>Monetory</th>\n",
              "      <th>R</th>\n",
              "      <th>F</th>\n",
              "      <th>M</th>\n",
              "      <th>RFM</th>\n",
              "    </tr>\n",
              "  </thead>\n",
              "  <tbody>\n",
              "    <tr>\n",
              "      <th>0</th>\n",
              "      <td>2.0</td>\n",
              "      <td>4</td>\n",
              "      <td>181</td>\n",
              "      <td>550416.0</td>\n",
              "      <td>1</td>\n",
              "      <td>1</td>\n",
              "      <td>1</td>\n",
              "      <td>3</td>\n",
              "    </tr>\n",
              "    <tr>\n",
              "      <th>1</th>\n",
              "      <td>3.0</td>\n",
              "      <td>77</td>\n",
              "      <td>27</td>\n",
              "      <td>257404.0</td>\n",
              "      <td>4</td>\n",
              "      <td>3</td>\n",
              "      <td>1</td>\n",
              "      <td>8</td>\n",
              "    </tr>\n",
              "    <tr>\n",
              "      <th>2</th>\n",
              "      <td>4.0</td>\n",
              "      <td>20</td>\n",
              "      <td>72</td>\n",
              "      <td>176613.0</td>\n",
              "      <td>3</td>\n",
              "      <td>2</td>\n",
              "      <td>2</td>\n",
              "      <td>7</td>\n",
              "    </tr>\n",
              "    <tr>\n",
              "      <th>3</th>\n",
              "      <td>5.0</td>\n",
              "      <td>18</td>\n",
              "      <td>16</td>\n",
              "      <td>41976.0</td>\n",
              "      <td>2</td>\n",
              "      <td>4</td>\n",
              "      <td>3</td>\n",
              "      <td>9</td>\n",
              "    </tr>\n",
              "    <tr>\n",
              "      <th>4</th>\n",
              "      <td>6.0</td>\n",
              "      <td>9</td>\n",
              "      <td>84</td>\n",
              "      <td>151822.0</td>\n",
              "      <td>1</td>\n",
              "      <td>2</td>\n",
              "      <td>2</td>\n",
              "      <td>5</td>\n",
              "    </tr>\n",
              "    <tr>\n",
              "      <th>...</th>\n",
              "      <td>...</td>\n",
              "      <td>...</td>\n",
              "      <td>...</td>\n",
              "      <td>...</td>\n",
              "      <td>...</td>\n",
              "      <td>...</td>\n",
              "      <td>...</td>\n",
              "      <td>...</td>\n",
              "    </tr>\n",
              "    <tr>\n",
              "      <th>4344</th>\n",
              "      <td>4368.0</td>\n",
              "      <td>17</td>\n",
              "      <td>10</td>\n",
              "      <td>20480.0</td>\n",
              "      <td>2</td>\n",
              "      <td>4</td>\n",
              "      <td>4</td>\n",
              "      <td>10</td>\n",
              "    </tr>\n",
              "    <tr>\n",
              "      <th>4345</th>\n",
              "      <td>4369.0</td>\n",
              "      <td>181</td>\n",
              "      <td>7</td>\n",
              "      <td>10774.0</td>\n",
              "      <td>4</td>\n",
              "      <td>4</td>\n",
              "      <td>4</td>\n",
              "      <td>12</td>\n",
              "    </tr>\n",
              "    <tr>\n",
              "      <th>4346</th>\n",
              "      <td>4370.0</td>\n",
              "      <td>12</td>\n",
              "      <td>13</td>\n",
              "      <td>24962.0</td>\n",
              "      <td>2</td>\n",
              "      <td>4</td>\n",
              "      <td>4</td>\n",
              "      <td>10</td>\n",
              "    </tr>\n",
              "    <tr>\n",
              "      <th>4347</th>\n",
              "      <td>4371.0</td>\n",
              "      <td>4</td>\n",
              "      <td>751</td>\n",
              "      <td>279720.0</td>\n",
              "      <td>1</td>\n",
              "      <td>1</td>\n",
              "      <td>1</td>\n",
              "      <td>3</td>\n",
              "    </tr>\n",
              "    <tr>\n",
              "      <th>4348</th>\n",
              "      <td>4372.0</td>\n",
              "      <td>51</td>\n",
              "      <td>68</td>\n",
              "      <td>256952.0</td>\n",
              "      <td>3</td>\n",
              "      <td>2</td>\n",
              "      <td>1</td>\n",
              "      <td>6</td>\n",
              "    </tr>\n",
              "  </tbody>\n",
              "</table>\n",
              "<p>4349 rows × 8 columns</p>\n",
              "</div>"
            ],
            "text/plain": [
              "      CustomerID  Recency  Frequency  Monetory  R  F  M  RFM\n",
              "0            2.0        4        181  550416.0  1  1  1    3\n",
              "1            3.0       77         27  257404.0  4  3  1    8\n",
              "2            4.0       20         72  176613.0  3  2  2    7\n",
              "3            5.0       18         16   41976.0  2  4  3    9\n",
              "4            6.0        9         84  151822.0  1  2  2    5\n",
              "...          ...      ...        ...       ... .. .. ..  ...\n",
              "4344      4368.0       17         10   20480.0  2  4  4   10\n",
              "4345      4369.0      181          7   10774.0  4  4  4   12\n",
              "4346      4370.0       12         13   24962.0  2  4  4   10\n",
              "4347      4371.0        4        751  279720.0  1  1  1    3\n",
              "4348      4372.0       51         68  256952.0  3  2  1    6\n",
              "\n",
              "[4349 rows x 8 columns]"
            ]
          },
          "execution_count": 43,
          "metadata": {},
          "output_type": "execute_result"
        }
      ],
      "source": [
        "RMFApproach.reset_index()"
      ]
    },
    {
      "cell_type": "code",
      "execution_count": null,
      "id": "42dafb65",
      "metadata": {
        "id": "42dafb65",
        "outputId": "909d8607-1fad-4630-f066-0871b30998e6"
      },
      "outputs": [
        {
          "data": {
            "text/html": [
              "<div>\n",
              "<style scoped>\n",
              "    .dataframe tbody tr th:only-of-type {\n",
              "        vertical-align: middle;\n",
              "    }\n",
              "\n",
              "    .dataframe tbody tr th {\n",
              "        vertical-align: top;\n",
              "    }\n",
              "\n",
              "    .dataframe thead th {\n",
              "        text-align: right;\n",
              "    }\n",
              "</style>\n",
              "<table border=\"1\" class=\"dataframe\">\n",
              "  <thead>\n",
              "    <tr style=\"text-align: right;\">\n",
              "      <th></th>\n",
              "      <th>CustomerID</th>\n",
              "      <th>Recency</th>\n",
              "      <th>Frequency</th>\n",
              "      <th>Monetory</th>\n",
              "      <th>R</th>\n",
              "      <th>F</th>\n",
              "      <th>M</th>\n",
              "      <th>RFM</th>\n",
              "      <th>Loyality_Level</th>\n",
              "    </tr>\n",
              "  </thead>\n",
              "  <tbody>\n",
              "    <tr>\n",
              "      <th>0</th>\n",
              "      <td>2.0</td>\n",
              "      <td>4</td>\n",
              "      <td>181</td>\n",
              "      <td>550416.0</td>\n",
              "      <td>1</td>\n",
              "      <td>1</td>\n",
              "      <td>1</td>\n",
              "      <td>3</td>\n",
              "      <td>Platinum</td>\n",
              "    </tr>\n",
              "    <tr>\n",
              "      <th>1</th>\n",
              "      <td>3.0</td>\n",
              "      <td>77</td>\n",
              "      <td>27</td>\n",
              "      <td>257404.0</td>\n",
              "      <td>4</td>\n",
              "      <td>3</td>\n",
              "      <td>1</td>\n",
              "      <td>8</td>\n",
              "      <td>Gold</td>\n",
              "    </tr>\n",
              "    <tr>\n",
              "      <th>2</th>\n",
              "      <td>4.0</td>\n",
              "      <td>20</td>\n",
              "      <td>72</td>\n",
              "      <td>176613.0</td>\n",
              "      <td>3</td>\n",
              "      <td>2</td>\n",
              "      <td>2</td>\n",
              "      <td>7</td>\n",
              "      <td>Gold</td>\n",
              "    </tr>\n",
              "    <tr>\n",
              "      <th>3</th>\n",
              "      <td>5.0</td>\n",
              "      <td>18</td>\n",
              "      <td>16</td>\n",
              "      <td>41976.0</td>\n",
              "      <td>2</td>\n",
              "      <td>4</td>\n",
              "      <td>3</td>\n",
              "      <td>9</td>\n",
              "      <td>Silver</td>\n",
              "    </tr>\n",
              "    <tr>\n",
              "      <th>4</th>\n",
              "      <td>6.0</td>\n",
              "      <td>9</td>\n",
              "      <td>84</td>\n",
              "      <td>151822.0</td>\n",
              "      <td>1</td>\n",
              "      <td>2</td>\n",
              "      <td>2</td>\n",
              "      <td>5</td>\n",
              "      <td>Platinum</td>\n",
              "    </tr>\n",
              "    <tr>\n",
              "      <th>...</th>\n",
              "      <td>...</td>\n",
              "      <td>...</td>\n",
              "      <td>...</td>\n",
              "      <td>...</td>\n",
              "      <td>...</td>\n",
              "      <td>...</td>\n",
              "      <td>...</td>\n",
              "      <td>...</td>\n",
              "      <td>...</td>\n",
              "    </tr>\n",
              "    <tr>\n",
              "      <th>4344</th>\n",
              "      <td>4368.0</td>\n",
              "      <td>17</td>\n",
              "      <td>10</td>\n",
              "      <td>20480.0</td>\n",
              "      <td>2</td>\n",
              "      <td>4</td>\n",
              "      <td>4</td>\n",
              "      <td>10</td>\n",
              "      <td>Silver</td>\n",
              "    </tr>\n",
              "    <tr>\n",
              "      <th>4345</th>\n",
              "      <td>4369.0</td>\n",
              "      <td>181</td>\n",
              "      <td>7</td>\n",
              "      <td>10774.0</td>\n",
              "      <td>4</td>\n",
              "      <td>4</td>\n",
              "      <td>4</td>\n",
              "      <td>12</td>\n",
              "      <td>Bronze</td>\n",
              "    </tr>\n",
              "    <tr>\n",
              "      <th>4346</th>\n",
              "      <td>4370.0</td>\n",
              "      <td>12</td>\n",
              "      <td>13</td>\n",
              "      <td>24962.0</td>\n",
              "      <td>2</td>\n",
              "      <td>4</td>\n",
              "      <td>4</td>\n",
              "      <td>10</td>\n",
              "      <td>Silver</td>\n",
              "    </tr>\n",
              "    <tr>\n",
              "      <th>4347</th>\n",
              "      <td>4371.0</td>\n",
              "      <td>4</td>\n",
              "      <td>751</td>\n",
              "      <td>279720.0</td>\n",
              "      <td>1</td>\n",
              "      <td>1</td>\n",
              "      <td>1</td>\n",
              "      <td>3</td>\n",
              "      <td>Platinum</td>\n",
              "    </tr>\n",
              "    <tr>\n",
              "      <th>4348</th>\n",
              "      <td>4372.0</td>\n",
              "      <td>51</td>\n",
              "      <td>68</td>\n",
              "      <td>256952.0</td>\n",
              "      <td>3</td>\n",
              "      <td>2</td>\n",
              "      <td>1</td>\n",
              "      <td>6</td>\n",
              "      <td>Gold</td>\n",
              "    </tr>\n",
              "  </tbody>\n",
              "</table>\n",
              "<p>4349 rows × 9 columns</p>\n",
              "</div>"
            ],
            "text/plain": [
              "      CustomerID  Recency  Frequency  Monetory  R  F  M  RFM Loyality_Level\n",
              "0            2.0        4        181  550416.0  1  1  1    3       Platinum\n",
              "1            3.0       77         27  257404.0  4  3  1    8           Gold\n",
              "2            4.0       20         72  176613.0  3  2  2    7           Gold\n",
              "3            5.0       18         16   41976.0  2  4  3    9         Silver\n",
              "4            6.0        9         84  151822.0  1  2  2    5       Platinum\n",
              "...          ...      ...        ...       ... .. .. ..  ...            ...\n",
              "4344      4368.0       17         10   20480.0  2  4  4   10         Silver\n",
              "4345      4369.0      181          7   10774.0  4  4  4   12         Bronze\n",
              "4346      4370.0       12         13   24962.0  2  4  4   10         Silver\n",
              "4347      4371.0        4        751  279720.0  1  1  1    3       Platinum\n",
              "4348      4372.0       51         68  256952.0  3  2  1    6           Gold\n",
              "\n",
              "[4349 rows x 9 columns]"
            ]
          },
          "execution_count": 44,
          "metadata": {},
          "output_type": "execute_result"
        }
      ],
      "source": [
        "Loyality_Level = ['Platinum','Gold','Silver','Bronze']\n",
        "score_cuts = pd.qcut(RMFApproach.RFM, q=4, labels = Loyality_Level)\n",
        "RMFApproach['Loyality_Level'] = score_cuts.values\n",
        "RMFApproach = RMFApproach.reset_index()\n",
        "RMFApproach"
      ]
    },
    {
      "cell_type": "code",
      "execution_count": null,
      "id": "0dc6b23b",
      "metadata": {
        "id": "0dc6b23b",
        "outputId": "66ff48ff-b7ef-431c-dc90-211e967b74f5"
      },
      "outputs": [
        {
          "data": {
            "text/plain": [
              "Index(['CustomerID', 'Recency', 'Frequency', 'Monetory', 'R', 'F', 'M', 'RFM',\n",
              "       'Loyality_Level'],\n",
              "      dtype='object')"
            ]
          },
          "execution_count": 46,
          "metadata": {},
          "output_type": "execute_result"
        }
      ],
      "source": [
        "RMFApproach.columns"
      ]
    },
    {
      "cell_type": "code",
      "execution_count": null,
      "id": "5b5bbe8f",
      "metadata": {
        "id": "5b5bbe8f"
      },
      "outputs": [],
      "source": [
        "RMFApproach.to_csv(\"my_analysis.csv\")"
      ]
    },
    {
      "cell_type": "code",
      "execution_count": null,
      "id": "02770590",
      "metadata": {
        "id": "02770590"
      },
      "outputs": [],
      "source": [
        "final_report = RMFApproach.groupby('Loyality_Level')[['Recency', 'Frequency', 'Monetory',\n",
        "                                                     'CustomerID']].agg({\n",
        "    'Recency' :'sum', 'Frequency':'sum', 'Monetory':'sum','CustomerID':'nunique'\n",
        "    \n",
        "}).reset_index()"
      ]
    },
    {
      "cell_type": "code",
      "execution_count": null,
      "id": "53128692",
      "metadata": {
        "id": "53128692",
        "outputId": "2dea503c-5ae7-4425-d03f-b1ebfdaa9b6c"
      },
      "outputs": [
        {
          "data": {
            "text/html": [
              "<div>\n",
              "<style scoped>\n",
              "    .dataframe tbody tr th:only-of-type {\n",
              "        vertical-align: middle;\n",
              "    }\n",
              "\n",
              "    .dataframe tbody tr th {\n",
              "        vertical-align: top;\n",
              "    }\n",
              "\n",
              "    .dataframe thead th {\n",
              "        text-align: right;\n",
              "    }\n",
              "</style>\n",
              "<table border=\"1\" class=\"dataframe\">\n",
              "  <thead>\n",
              "    <tr style=\"text-align: right;\">\n",
              "      <th></th>\n",
              "      <th>Loyality_Level</th>\n",
              "      <th>Recency</th>\n",
              "      <th>Frequency</th>\n",
              "      <th>Monetory</th>\n",
              "      <th>NumBuyers</th>\n",
              "    </tr>\n",
              "  </thead>\n",
              "  <tbody>\n",
              "    <tr>\n",
              "      <th>0</th>\n",
              "      <td>Platinum</td>\n",
              "      <td>13340</td>\n",
              "      <td>297150</td>\n",
              "      <td>765731356.0</td>\n",
              "      <td>1308</td>\n",
              "    </tr>\n",
              "    <tr>\n",
              "      <th>1</th>\n",
              "      <td>Gold</td>\n",
              "      <td>42079</td>\n",
              "      <td>73994</td>\n",
              "      <td>160271639.0</td>\n",
              "      <td>1289</td>\n",
              "    </tr>\n",
              "    <tr>\n",
              "      <th>2</th>\n",
              "      <td>Silver</td>\n",
              "      <td>78927</td>\n",
              "      <td>23588</td>\n",
              "      <td>52766014.1</td>\n",
              "      <td>940</td>\n",
              "    </tr>\n",
              "    <tr>\n",
              "      <th>3</th>\n",
              "      <td>Bronze</td>\n",
              "      <td>132879</td>\n",
              "      <td>8127</td>\n",
              "      <td>19300105.0</td>\n",
              "      <td>812</td>\n",
              "    </tr>\n",
              "  </tbody>\n",
              "</table>\n",
              "</div>"
            ],
            "text/plain": [
              "  Loyality_Level  Recency  Frequency     Monetory  NumBuyers\n",
              "0       Platinum    13340     297150  765731356.0       1308\n",
              "1           Gold    42079      73994  160271639.0       1289\n",
              "2         Silver    78927      23588   52766014.1        940\n",
              "3         Bronze   132879       8127   19300105.0        812"
            ]
          },
          "execution_count": 50,
          "metadata": {},
          "output_type": "execute_result"
        }
      ],
      "source": [
        "final_report"
      ]
    },
    {
      "cell_type": "code",
      "execution_count": null,
      "id": "47bf3591",
      "metadata": {
        "id": "47bf3591"
      },
      "outputs": [],
      "source": [
        "final_report = final_report.rename(columns = {'CustomerID':'NumBuyers'})"
      ]
    },
    {
      "cell_type": "code",
      "execution_count": null,
      "id": "28bf5290",
      "metadata": {
        "id": "28bf5290"
      },
      "outputs": [],
      "source": [
        "final_report['Percent'] = round(final_report['NumBuyers']/final_report.NumBuyers.sum()*100,2)"
      ]
    },
    {
      "cell_type": "code",
      "execution_count": null,
      "id": "15a209c4",
      "metadata": {
        "id": "15a209c4",
        "outputId": "85d06d02-4004-412d-a340-8de133ebd817"
      },
      "outputs": [
        {
          "data": {
            "text/html": [
              "<div>\n",
              "<style scoped>\n",
              "    .dataframe tbody tr th:only-of-type {\n",
              "        vertical-align: middle;\n",
              "    }\n",
              "\n",
              "    .dataframe tbody tr th {\n",
              "        vertical-align: top;\n",
              "    }\n",
              "\n",
              "    .dataframe thead th {\n",
              "        text-align: right;\n",
              "    }\n",
              "</style>\n",
              "<table border=\"1\" class=\"dataframe\">\n",
              "  <thead>\n",
              "    <tr style=\"text-align: right;\">\n",
              "      <th></th>\n",
              "      <th>Loyality_Level</th>\n",
              "      <th>Recency</th>\n",
              "      <th>Frequency</th>\n",
              "      <th>Monetory</th>\n",
              "      <th>NumBuyers</th>\n",
              "      <th>Percent</th>\n",
              "    </tr>\n",
              "  </thead>\n",
              "  <tbody>\n",
              "    <tr>\n",
              "      <th>0</th>\n",
              "      <td>Platinum</td>\n",
              "      <td>13340</td>\n",
              "      <td>297150</td>\n",
              "      <td>765731356.0</td>\n",
              "      <td>1308</td>\n",
              "      <td>30.08</td>\n",
              "    </tr>\n",
              "    <tr>\n",
              "      <th>1</th>\n",
              "      <td>Gold</td>\n",
              "      <td>42079</td>\n",
              "      <td>73994</td>\n",
              "      <td>160271639.0</td>\n",
              "      <td>1289</td>\n",
              "      <td>29.64</td>\n",
              "    </tr>\n",
              "    <tr>\n",
              "      <th>2</th>\n",
              "      <td>Silver</td>\n",
              "      <td>78927</td>\n",
              "      <td>23588</td>\n",
              "      <td>52766014.1</td>\n",
              "      <td>940</td>\n",
              "      <td>21.61</td>\n",
              "    </tr>\n",
              "    <tr>\n",
              "      <th>3</th>\n",
              "      <td>Bronze</td>\n",
              "      <td>132879</td>\n",
              "      <td>8127</td>\n",
              "      <td>19300105.0</td>\n",
              "      <td>812</td>\n",
              "      <td>18.67</td>\n",
              "    </tr>\n",
              "  </tbody>\n",
              "</table>\n",
              "</div>"
            ],
            "text/plain": [
              "  Loyality_Level  Recency  Frequency     Monetory  NumBuyers  Percent\n",
              "0       Platinum    13340     297150  765731356.0       1308    30.08\n",
              "1           Gold    42079      73994  160271639.0       1289    29.64\n",
              "2         Silver    78927      23588   52766014.1        940    21.61\n",
              "3         Bronze   132879       8127   19300105.0        812    18.67"
            ]
          },
          "execution_count": 53,
          "metadata": {},
          "output_type": "execute_result"
        }
      ],
      "source": [
        "final_report"
      ]
    },
    {
      "cell_type": "code",
      "execution_count": null,
      "id": "69557e08",
      "metadata": {
        "id": "69557e08",
        "outputId": "a72e7dc0-f8d0-4cea-ba36-52fc2a8e3d39"
      },
      "outputs": [
        {
          "data": {
            "text/html": [
              "<div>\n",
              "<style scoped>\n",
              "    .dataframe tbody tr th:only-of-type {\n",
              "        vertical-align: middle;\n",
              "    }\n",
              "\n",
              "    .dataframe tbody tr th {\n",
              "        vertical-align: top;\n",
              "    }\n",
              "\n",
              "    .dataframe thead th {\n",
              "        text-align: right;\n",
              "    }\n",
              "</style>\n",
              "<table border=\"1\" class=\"dataframe\">\n",
              "  <thead>\n",
              "    <tr style=\"text-align: right;\">\n",
              "      <th></th>\n",
              "      <th>Loyality_Level</th>\n",
              "      <th>NumBuyers</th>\n",
              "      <th>Percent</th>\n",
              "    </tr>\n",
              "  </thead>\n",
              "  <tbody>\n",
              "    <tr>\n",
              "      <th>0</th>\n",
              "      <td>Platinum</td>\n",
              "      <td>1308</td>\n",
              "      <td>30.08</td>\n",
              "    </tr>\n",
              "    <tr>\n",
              "      <th>1</th>\n",
              "      <td>Gold</td>\n",
              "      <td>1289</td>\n",
              "      <td>29.64</td>\n",
              "    </tr>\n",
              "    <tr>\n",
              "      <th>2</th>\n",
              "      <td>Silver</td>\n",
              "      <td>940</td>\n",
              "      <td>21.61</td>\n",
              "    </tr>\n",
              "    <tr>\n",
              "      <th>3</th>\n",
              "      <td>Bronze</td>\n",
              "      <td>812</td>\n",
              "      <td>18.67</td>\n",
              "    </tr>\n",
              "  </tbody>\n",
              "</table>\n",
              "</div>"
            ],
            "text/plain": [
              "  Loyality_Level  NumBuyers  Percent\n",
              "0       Platinum       1308    30.08\n",
              "1           Gold       1289    29.64\n",
              "2         Silver        940    21.61\n",
              "3         Bronze        812    18.67"
            ]
          },
          "execution_count": 54,
          "metadata": {},
          "output_type": "execute_result"
        }
      ],
      "source": [
        "final_report1 = final_report[['Loyality_Level','NumBuyers', 'Percent']]\n",
        "final_report1"
      ]
    },
    {
      "cell_type": "code",
      "execution_count": null,
      "id": "b7985bf7",
      "metadata": {
        "id": "b7985bf7"
      },
      "outputs": [],
      "source": [
        "import squarify"
      ]
    },
    {
      "cell_type": "code",
      "execution_count": null,
      "id": "633bab43",
      "metadata": {
        "id": "633bab43",
        "outputId": "98c7d39e-8e60-44a6-cec4-6d133398bc3c"
      },
      "outputs": [
        {
          "data": {
            "image/png": "[encoded data removed]",
            "text/plain": [
              "<Figure size 1500x1200 with 1 Axes>"
            ]
          },
          "metadata": {},
          "output_type": "display_data"
        }
      ],
      "source": [
        "fig = plt.gcf()\n",
        "ax = fig.add_subplot()\n",
        "fig.set_size_inches(15,12)\n",
        "colors_dics = {'Platinum':'red', 'Gold':'yellow', 'Silver':'gray','Bronze':'blue'}\n",
        "\n",
        "squarify.plot(sizes=final_report1['NumBuyers'],color=colors_dics.values(),\n",
        "             label = ['{} \\n{:0.0f} customers \\n{}%'.format(*final_report1.iloc[i]) for \n",
        "                     i in range(0, len(final_report1))], alpha=0.6)\n",
        "\n",
        "plt.title(\"Customer Segmentation Basis Loyality Level\", fontsize=25, fontweight='bold')\n",
        "plt.axis('off')\n",
        "plt.show()"
      ]
    },
    {
      "cell_type": "code",
      "execution_count": null,
      "id": "bfef5373",
      "metadata": {
        "id": "bfef5373"
      },
      "outputs": [],
      "source": []
    }
  ],
  "metadata": {
    "colab": {
      "provenance": []
    },
    "kernelspec": {
      "display_name": "Python 3 (ipykernel)",
      "language": "python",
      "name": "python3"
    },
    "language_info": {
      "codemirror_mode": {
        "name": "ipython",
        "version": 3
      },
      "file_extension": ".py",
      "mimetype": "text/x-python",
      "name": "python",
      "nbconvert_exporter": "python",
      "pygments_lexer": "ipython3",
      "version": "3.9.13"
    }
  },
  "nbformat": 4,
  "nbformat_minor": 5
}
